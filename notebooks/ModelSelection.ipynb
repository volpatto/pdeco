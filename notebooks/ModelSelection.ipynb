{
 "cells": [
  {
   "cell_type": "code",
   "execution_count": 1,
   "metadata": {},
   "outputs": [],
   "source": [
    "import numpy as np\n",
    "import matplotlib.pyplot as plt\n",
    "import os\n",
    "from scipy.integrate import odeint\n",
    "from scipy.interpolate import CubicSpline\n",
    "from sklearn.gaussian_process.kernels import ExpSineSquared, Matern, RBF, WhiteKernel, RationalQuadratic, DotProduct, ConstantKernel"
   ]
  },
  {
   "cell_type": "code",
   "execution_count": 2,
   "metadata": {},
   "outputs": [],
   "source": [
    "# The following models are the phenomenological models\n",
    "\n",
    "def model1(X, t):\n",
    "\tx, y = X\n",
    "\tdXdt = [0.318752 * x - 0.080779 * x * y / ( 1 + 0.0001948159776916025 * x  ),\n",
    "\t\t0.0002897334690674872 * x - 0.012509 * y * y\n",
    "\t]\n",
    "\treturn dXdt\n",
    "\n",
    "model1_vars = {\n",
    "\t\"k\": 5,\n",
    "\t\"X0\": np.array([2400.5117688174696, 4.1470588235293935])\n",
    "}\n",
    "\n",
    "def model2(X, t):\n",
    "\tx, y = X\n",
    "\tdXdt = [0.295637 * x - 0.083731 * x * y / ( 1 + 0.00019604301622985423 * x ),\n",
    "\t\t7.673479420465873e-05 * x * y / ( 1 + 0.00019604301622985423 * x ) - 0.016822 * y * y\n",
    "\t]\n",
    "\treturn dXdt\n",
    "\n",
    "model2_vars = {\n",
    "\t\"k\": 5,\n",
    "\t\"X0\": np.array([2400.5117688174696, 4.1470588235293935])\n",
    "}\n",
    "\n",
    "def model3(X, t):\n",
    "\tx, y = X\n",
    "\tdXdt = [0.25 * x - 0.000297 * x * x * y / ( 1 + 0.000003 * x * x ),\n",
    "\t\t1.668734524839995e-06 * x * x * y / ( 1 + 0.000003 * x * x ) - 0.102103 * y * y\n",
    "\t]\n",
    "\treturn dXdt\n",
    "\n",
    "model3_vars = {\n",
    "\t\"k\": 5,\n",
    "\t\"X0\": np.array([2400.5117688174696, 4.1470588235293935])\n",
    "}\n",
    "\n",
    "# The following models came from the SINDy-SA\n",
    "\n",
    "def model4(X, t):# in the previous this was model 14\n",
    "\tx, y = X\n",
    "\tdXdt = [-7.712e-06*x**2 + 5.228383e-08*x**3 + -3.212072e-05*x**2*y + -0.0002902*x*y**2,\n",
    "\t\t0.000e+00\n",
    "\t]\n",
    "\treturn dXdt\n",
    "\n",
    "model4_vars = {\n",
    "\t\"k\": 4,\n",
    "\t\"X0\": np.array([2719.3794153268414, 4.147056509871602])\n",
    "}\n",
    "\n",
    "def model5(X, t):# in the previous this was model 02\n",
    "\tx, y = X\n",
    "\tdXdt = [-9.722941e-05*x**2 + -0.007269*x*y + 3.944668e-08*x**3,\n",
    "\t\t0.000e+00\n",
    "\t]\n",
    "\treturn dXdt\n",
    "\n",
    "model5_vars = {\n",
    "\t\"k\": 3,\n",
    "\t\"X0\": np.array([2713.7232754553243, 4.147055452699332])\n",
    "}\n",
    "\n",
    "def model6(X, t):# in the previous this was model 09\n",
    "\tx, y = X\n",
    "\tdXdt = [-9.161618e-05*x**2 + 3.746377e-08*x**3 + -0.001601*x*y**2,\n",
    "\t\t0.000e+00\n",
    "\t]\n",
    "\treturn dXdt\n",
    "\n",
    "model6_vars = {\n",
    "\t\"k\": 3,\n",
    "\t\"X0\": np.array([2681.4743756420753, 4.1470600152530155])\n",
    "}"
   ]
  },
  {
   "cell_type": "code",
   "execution_count": 3,
   "metadata": {},
   "outputs": [],
   "source": [
    "def compute_SSE(target, predicted):\n",
    "\tsquared_errors = (target - predicted)**2.0\n",
    "\treturn np.sum(squared_errors)"
   ]
  },
  {
   "cell_type": "code",
   "execution_count": 4,
   "metadata": {},
   "outputs": [],
   "source": [
    "def compute_AIC(n, k, SSE):\n",
    "\tAIC = n*np.log(SSE/n) + 2.0*k\n",
    "\tAICmin = np.amin(AIC)\n",
    "\tDelta_AIC = AIC - AICmin\n",
    "\tlike = np.exp(-0.5*Delta_AIC)\n",
    "\tlikesum = np.sum(like)\n",
    "\tAIC_weights = like/likesum\n",
    "\tprint(\"Best models AIC (worst to best) = \" + str(np.argsort(AIC_weights)+1) + \"\\n\")\n",
    "\tprint(\"Best models AIC (worst to best) = \" + str(np.sort(AIC_weights)) + \"\\n\")\n",
    "\tbest_AIC_model = np.argmax(AIC_weights)\n",
    "\tAIC_evid_ratio = AIC_weights[best_AIC_model]/AIC_weights\n",
    "\treturn best_AIC_model"
   ]
  },
  {
   "cell_type": "code",
   "execution_count": 5,
   "metadata": {},
   "outputs": [],
   "source": [
    "def compute_AICc(n, k, SSE):\n",
    "\tAICc = n*np.log(SSE/n) + 2.0*k  + (2.0*k*(k + 1.0))/(n - k - 1.0)\n",
    "\tAICcmin = np.amin(AICc)\n",
    "\tDelta_AICc = AICc - AICcmin\n",
    "\tlikec = np.exp(-0.5*Delta_AICc)\n",
    "\tlikecsum = np.sum(likec)\n",
    "\tAICc_weights = likec/likecsum\n",
    "\tprint(\"Best models AICc (worst to best) = \" + str(np.argsort(AICc_weights)+1) + \"\\n\")\n",
    "\tprint(\"Best models AICc (worst to best) = \" + str(np.sort(AICc_weights)) + \"\\n\")\n",
    "\tbest_AICc_model = np.argmax(AICc_weights)\n",
    "\tAICc_evid_ratio = AICc_weights[best_AICc_model]/AICc_weights\n",
    "\treturn best_AICc_model"
   ]
  },
  {
   "cell_type": "code",
   "execution_count": 6,
   "metadata": {},
   "outputs": [],
   "source": [
    "def compute_BIC(n, k, SSE):\n",
    "\tBIC = n*np.log(SSE/n) + k*np.log(n)\n",
    "\tBICmin = np.amin(BIC)\n",
    "\tDelta_BIC = BIC - BICmin\n",
    "\tBICsum = np.sum(np.exp(-0.5*Delta_BIC))\n",
    "\tBIC_prob = np.exp(-0.5*Delta_BIC)/BICsum\n",
    "\tprint(\"Best models BIC (worst to best) = \" + str(np.argsort(BIC_prob)+1) + \"\\n\")\n",
    "\tprint(\"Best models BIC (worst to best) = \" + str(np.sort(BIC_prob)) + \"\\n\")\n",
    "\tbest_BIC_model = np.argmax(BIC_prob)\n",
    "\treturn best_BIC_model"
   ]
  },
  {
   "cell_type": "code",
   "execution_count": 7,
   "metadata": {},
   "outputs": [],
   "source": [
    "# Read train data\n",
    "data_dir = \"../data/\"\n",
    "data = np.genfromtxt(data_dir + \"data.csv\", dtype = float, delimiter = ',', names = True)\n",
    "t = data[\"Time\"]\n",
    "X_aphid = data[\"Aphid\"].reshape((-1, 1))\n",
    "X_ladybeetle = data[\"Ladybeetle\"].reshape((-1, 1))\n",
    "X = np.hstack((X_aphid, X_ladybeetle))\n",
    "\n",
    "X0 = X[0, :]\n",
    "t_steps = len(t)"
   ]
  },
  {
   "cell_type": "code",
   "execution_count": 8,
   "metadata": {},
   "outputs": [],
   "source": [
    "# Read test data\n",
    "data_dir = \"../data/\"\n",
    "data_test = np.genfromtxt(data_dir + \"data.csv\", dtype = float, delimiter = ',', names = True)\n",
    "t_test = data_test[\"Time\"]\n",
    "X_test_aphid = data_test[\"Aphid\"].reshape((-1, 1))\n",
    "X_test_ladybeetle = data_test[\"Ladybeetle\"].reshape((-1, 1))\n",
    "X_test = np.hstack((X_test_aphid, X_test_ladybeetle))\n",
    "\n",
    "X0_test = X_test[0, :]"
   ]
  },
  {
   "cell_type": "code",
   "execution_count": 9,
   "metadata": {},
   "outputs": [],
   "source": [
    "# Simulate models\n",
    "model1_vars[\"simulation\"] = odeint(model1, model1_vars[\"X0\"], t_test)\n",
    "model2_vars[\"simulation\"] = odeint(model2, model2_vars[\"X0\"], t_test)\n",
    "model3_vars[\"simulation\"] = odeint(model3, model3_vars[\"X0\"], t_test)\n",
    "model4_vars[\"simulation\"] = odeint(model4, model4_vars[\"X0\"], t_test)\n",
    "model5_vars[\"simulation\"] = odeint(model5, model5_vars[\"X0\"], t_test)\n",
    "model6_vars[\"simulation\"] = odeint(model6, model6_vars[\"X0\"], t_test)"
   ]
  },
  {
   "cell_type": "code",
   "execution_count": 10,
   "metadata": {},
   "outputs": [],
   "source": [
    "# Compute SSE\n",
    "model1_vars[\"SSE\"] = compute_SSE(X_test.reshape(model1_vars[\"simulation\"].shape), model1_vars[\"simulation\"])\n",
    "model2_vars[\"SSE\"] = compute_SSE(X_test.reshape(model2_vars[\"simulation\"].shape), model2_vars[\"simulation\"])\n",
    "model3_vars[\"SSE\"] = compute_SSE(X_test.reshape(model3_vars[\"simulation\"].shape), model3_vars[\"simulation\"])\n",
    "model4_vars[\"SSE\"] = compute_SSE(X_test.reshape(model4_vars[\"simulation\"].shape), model4_vars[\"simulation\"])\n",
    "model5_vars[\"SSE\"] = compute_SSE(X_test.reshape(model5_vars[\"simulation\"].shape), model5_vars[\"simulation\"])\n",
    "model6_vars[\"SSE\"] = compute_SSE(X_test.reshape(model6_vars[\"simulation\"].shape), model6_vars[\"simulation\"])"
   ]
  },
  {
   "cell_type": "code",
   "execution_count": 11,
   "metadata": {},
   "outputs": [
    {
     "name": "stdout",
     "output_type": "stream",
     "text": [
      "SSE = [2.13103960e+06 2.12897451e+06 3.32310000e+14 2.36650859e+06\n",
      " 2.77608928e+06 3.14228756e+06]\n",
      "\n"
     ]
    }
   ],
   "source": [
    "# Define information criteria parameters\n",
    "k = np.array([model1_vars[\"k\"],\n",
    "\tmodel2_vars[\"k\"],\n",
    "\tmodel3_vars[\"k\"],\n",
    "\tmodel4_vars[\"k\"],\n",
    "\tmodel5_vars[\"k\"],\n",
    "\tmodel6_vars[\"k\"],\n",
    "])\n",
    "SSE = np.array([model1_vars[\"SSE\"],\n",
    "\tmodel2_vars[\"SSE\"],\n",
    "\tmodel3_vars[\"SSE\"],\n",
    "\tmodel4_vars[\"SSE\"],\n",
    "\tmodel5_vars[\"SSE\"],\n",
    "\tmodel6_vars[\"SSE\"],\n",
    "])\n",
    "print(\"SSE = \" + str(SSE) + \"\\n\")"
   ]
  },
  {
   "cell_type": "code",
   "execution_count": 12,
   "metadata": {},
   "outputs": [
    {
     "name": "stdout",
     "output_type": "stream",
     "text": [
      "Best models AIC (worst to best) = [3 6 5 4 1 2]\n",
      "\n",
      "Best models AIC (worst to best) = [2.04378317e-140 3.90913824e-003 3.21287235e-002 1.78291173e-001\n",
      " 3.89598212e-001 3.96072753e-001]\n",
      "\n",
      "Best models AICc (worst to best) = [3 6 5 4 1 2]\n",
      "\n",
      "Best models AICc (worst to best) = [1.82909600e-140 6.84668638e-003 5.62720682e-002 2.33740304e-001\n",
      " 3.48673256e-001 3.54467686e-001]\n",
      "\n",
      "Best models BIC (worst to best) = [3 6 5 4 1 2]\n",
      "\n",
      "Best models BIC (worst to best) = [1.53213370e-140 1.34844373e-002 1.10826922e-001 2.86705923e-001\n",
      " 2.92064520e-001 2.96918197e-001]\n",
      "\n"
     ]
    }
   ],
   "source": [
    "# Compute AIC, AICc, and BIC\n",
    "best_AIC_model = compute_AIC(t_steps, k, SSE)\n",
    "best_AICc_model = compute_AICc(t_steps, k, SSE)\n",
    "best_BIC_model = compute_BIC(t_steps, k, SSE)"
   ]
  }
 ],
 "metadata": {
  "jupytext": {
   "encoding": "# -*- coding: utf-8 -*-",
   "formats": "ipynb,py:light"
  },
  "kernelspec": {
   "display_name": "Python 3 (ipykernel)",
   "language": "python",
   "name": "python3"
  },
  "language_info": {
   "codemirror_mode": {
    "name": "ipython",
    "version": 3
   },
   "file_extension": ".py",
   "mimetype": "text/x-python",
   "name": "python",
   "nbconvert_exporter": "python",
   "pygments_lexer": "ipython3",
   "version": "3.10.4"
  }
 },
 "nbformat": 4,
 "nbformat_minor": 4
}
